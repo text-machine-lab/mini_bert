{
 "cells": [
  {
   "cell_type": "code",
   "execution_count": 1,
   "id": "e905305f-601a-4902-9ea2-b2215a9c74f5",
   "metadata": {},
   "outputs": [
    {
     "name": "stderr",
     "output_type": "stream",
     "text": [
      "/home/vdeshpande/miniconda3/envs/vlad_work/lib/python3.7/site-packages/tqdm/auto.py:22: TqdmWarning: IProgress not found. Please update jupyter and ipywidgets. See https://ipywidgets.readthedocs.io/en/stable/user_install.html\n",
      "  from .autonotebook import tqdm as notebook_tqdm\n"
     ]
    }
   ],
   "source": [
    "import scipy as sp\n",
    "import numpy as np\n",
    "import pandas as pd\n",
    "import json\n",
    "import os\n",
    "import glob\n",
    "from datasets import load_dataset\n",
    "from tqdm import tqdm\n",
    "from english_words import english_words_set\n",
    "from collections import Counter\n",
    "from sklearn.feature_extraction.text import CountVectorizer\n",
    "import matplotlib.pyplot as plt\n",
    "import seaborn as sns\n",
    "from scipy.stats import zipf\n",
    "from scipy.optimize import curve_fit\n",
    "from nltk.corpus import words\n",
    "import vocab_utils as utils_\n",
    "from nltk import FreqDist, word_tokenize, wordpunct_tokenize\n",
    "import wiki_dump_parser as parser"
   ]
  },
  {
   "cell_type": "code",
   "execution_count": 2,
   "id": "c41c4979-be1a-4f48-9733-be53743a8900",
   "metadata": {},
   "outputs": [
    {
     "name": "stdout",
     "output_type": "stream",
     "text": [
      "Skipping cbt_filtered_sentences.json because it is already processed\n",
      "Skipping simplified_wikipedia_filtered_sentences.json because it is already processed\n"
     ]
    }
   ],
   "source": [
    "utils_.process_filtered_sentences()"
   ]
  },
  {
   "cell_type": "code",
   "execution_count": 3,
   "id": "a86771ec-4149-4ac0-ad3b-fa8612f68acd",
   "metadata": {},
   "outputs": [
    {
     "name": "stdout",
     "output_type": "stream",
     "text": [
      "/home/vdeshpande/vocabulary_analysis/data_filtering/based_on_aochild\n"
     ]
    }
   ],
   "source": [
    "!pwd"
   ]
  },
  {
   "cell_type": "code",
   "execution_count": null,
   "id": "c7a90f0d-d127-40b4-b8db-138abd870e32",
   "metadata": {},
   "outputs": [],
   "source": []
  },
  {
   "cell_type": "code",
   "execution_count": null,
   "id": "b83fb37e-101f-4cb0-84ba-59a4df7f5123",
   "metadata": {},
   "outputs": [],
   "source": []
  },
  {
   "cell_type": "code",
   "execution_count": null,
   "id": "66dc193b-fb38-4e08-ad4a-eddbcc6de6f3",
   "metadata": {},
   "outputs": [],
   "source": []
  },
  {
   "cell_type": "code",
   "execution_count": null,
   "id": "85bd93de-1d80-4803-8956-e70db476e665",
   "metadata": {},
   "outputs": [],
   "source": []
  },
  {
   "cell_type": "code",
   "execution_count": null,
   "id": "212b12d8-7edd-4a59-be94-210d1e7eaea9",
   "metadata": {},
   "outputs": [],
   "source": []
  },
  {
   "cell_type": "code",
   "execution_count": null,
   "id": "9ec78c99-2c3f-4219-8ff1-c157a5b413c6",
   "metadata": {},
   "outputs": [],
   "source": []
  },
  {
   "cell_type": "code",
   "execution_count": null,
   "id": "32bddfdd-cea7-43d1-9a3b-b5eae2743a7b",
   "metadata": {},
   "outputs": [],
   "source": []
  },
  {
   "cell_type": "code",
   "execution_count": null,
   "id": "7d941b91-eb64-4533-86ed-e0c70be768d4",
   "metadata": {},
   "outputs": [],
   "source": []
  }
 ],
 "metadata": {
  "kernelspec": {
   "display_name": "Python 3 (ipykernel)",
   "language": "python",
   "name": "python3"
  },
  "language_info": {
   "codemirror_mode": {
    "name": "ipython",
    "version": 3
   },
   "file_extension": ".py",
   "mimetype": "text/x-python",
   "name": "python",
   "nbconvert_exporter": "python",
   "pygments_lexer": "ipython3",
   "version": "3.7.13"
  }
 },
 "nbformat": 4,
 "nbformat_minor": 5
}
