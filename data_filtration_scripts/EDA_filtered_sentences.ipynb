{
 "cells": [
  {
   "cell_type": "code",
   "execution_count": 4,
   "id": "72901f0e-c5de-412e-9133-243b358a19c9",
   "metadata": {},
   "outputs": [],
   "source": [
    "import scipy as sp\n",
    "import numpy as np\n",
    "import pandas as pd\n",
    "import json\n",
    "import os\n",
    "import glob\n",
    "from datasets import load_dataset\n",
    "from tqdm import tqdm\n",
    "#from english_words import english_words_set\n",
    "from collections import Counter\n",
    "from sklearn.feature_extraction.text import CountVectorizer\n",
    "import matplotlib.pyplot as plt\n",
    "import seaborn as sns\n",
    "from scipy.stats import zipf\n",
    "from scipy.optimize import curve_fit\n",
    "from nltk.corpus import words\n",
    "import vocab_utils as utils_\n",
    "from nltk import FreqDist, word_tokenize, wordpunct_tokenize\n",
    "#import wiki_dump_parser as parser"
   ]
  },
  {
   "cell_type": "code",
   "execution_count": null,
   "id": "29db91de-e759-44f6-87bc-cee3019c0af1",
   "metadata": {},
   "outputs": [],
   "source": []
  },
  {
   "cell_type": "code",
   "execution_count": 10,
   "id": "6292bea5-ba51-469a-ad42-3d29eea81bc8",
   "metadata": {},
   "outputs": [
    {
     "name": "stdout",
     "output_type": "stream",
     "text": [
      "              Unnamed: 0  word   age  raw_age\n",
      "age_discrete                                 \n",
      "1                   2261  2261  2261     2261\n",
      "2                   4348  4348  4348     4348\n",
      "3                   2855  2855  2855     2855\n",
      "4                   1181  1181  1181     1181\n",
      "5                    396   396   396      396\n",
      "6                     54    54    54       54\n",
      "words in vocab of interest: 11095\n",
      "words in english vocab: 2785345\n"
     ]
    }
   ],
   "source": [
    "vocab = pd.read_csv('CHILDES_vocab_age.csv')\n",
    "vocab = vocab.dropna()\n",
    "\n",
    "#\n",
    "age_discrete = []\n",
    "for age in vocab.loc[:, 'age']:\n",
    "    age_lb = 0\n",
    "    for age_ub in range(7):\n",
    "        if age_lb < age <= age_ub:\n",
    "            age_discrete.append(age_ub)\n",
    "        age_lb = age_ub\n",
    "\n",
    "#\n",
    "vocab['age_discrete'] = age_discrete\n",
    "print(vocab.groupby('age_discrete').count())\n",
    "\n",
    "#\n",
    "vocab_of_interest = [i.lower() for i in vocab.word.unique().tolist()]\n",
    "english_vocab = pd.read_csv('wikipedia_vocab_regex_based.csv').iloc[:, 1].values.tolist()#list(set(words.words()).union(set(vocab_of_interest)))\n",
    "#english_vocab = list(set(words.words()).union(set(vocab_of_interest)))\n",
    "\n",
    "#\n",
    "age2words = {i: [] for i in vocab.loc[:, 'age_discrete'].unique().tolist()}\n",
    "for age in vocab.loc[:, 'age_discrete'].unique():\n",
    "    v_ = vocab.loc[vocab.loc[:, 'age_discrete'] == age, :].loc[:, 'word'].unique().tolist()\n",
    "    age2words[age] += v_\n",
    "\n",
    "#\n",
    "print(f'words in vocab of interest: {len(vocab_of_interest)}')\n",
    "print(f'words in english vocab: {len(english_vocab)}')#\n",
    "\n",
    "\n",
    "#\n",
    "df = pd.read_csv('simplewiki-20220901-pages-articles-multistream.csv', quotechar='|', index_col = False)\n",
    "df['timestamp'] = pd.to_datetime(df['timestamp'],format='%Y-%m-%dT%H:%M:%SZ')"
   ]
  },
  {
   "cell_type": "code",
   "execution_count": 3,
   "id": "5bdfca16-3459-4744-996a-5d98a0f7f228",
   "metadata": {},
   "outputs": [],
   "source": [
    "with open('./ALL_FILTERED_DATA/processed_data.json', 'r') as f:\n",
    "    data = json.load(f)"
   ]
  },
  {
   "cell_type": "code",
   "execution_count": null,
   "id": "ce8416ce-de50-43c4-a0cf-c2b0fab19427",
   "metadata": {},
   "outputs": [],
   "source": [
    "# age-bins -> length of sentece\n",
    "# length -> distribution of age\n",
    "# oov words?\n",
    "# age -> occurence of oov words?\n",
    "\n",
    "\n",
    "def binnify_age(list_age):\n",
    "    bins = [0, 2, 4, 6, 8, 10, 12, 14, 16, 18, 20, 100]\n",
    "    bin_age = np.digitize(my_list,bins)\n",
    "    \n",
    "    return bin_age"
   ]
  },
  {
   "cell_type": "code",
   "execution_count": 20,
   "id": "7c7b9822-1000-49ba-9917-48a28372d634",
   "metadata": {},
   "outputs": [
    {
     "name": "stderr",
     "output_type": "stream",
     "text": [
      "100%|███████████████████████████████████████████████████████████████████████████████████████| 7006061/7006061 [00:16<00:00, 428408.59it/s]\n"
     ]
    }
   ],
   "source": [
    "age2len = {}\n",
    "len2age = {}\n",
    "age2oov = {}\n",
    "len2oov = {}\n",
    "source2len = {}\n",
    "source2oov = {}\n",
    "source2age = {}\n",
    "for k_, v_ in tqdm(data.items()):\n",
    "    len_ = int(v_['SENTENCE_LENGTH'])\n",
    "    len_ = min(max(4, len_), 20)\n",
    "    age_ = v_['AVG_AGE']\n",
    "    oov_ = v_['OOV_WORDS']\n",
    "    source_ = v_['DATA_SOURCE']\n",
    "    \n",
    "    #\n",
    "    if len_ in len2age:\n",
    "        len2age[len_] += [age_]\n",
    "    else:\n",
    "        len2age[len_] = [age_]\n",
    "    \n",
    "    #\n",
    "    if len_ in len2oov:\n",
    "        len2oov[len_] += [len(oov_)]\n",
    "    else:\n",
    "        len2oov[len_] = [len(oov_)]\n",
    "        \n",
    "    #\n",
    "    if source_ in source2oov:\n",
    "        source2oov[source_] += [len(oov_)]\n",
    "    else:\n",
    "        source2oov[source_] = [len(oov_)]\n",
    "        \n",
    "    \n",
    "    #\n",
    "    if source_ in source2age:\n",
    "        source2age[source_] += [age_]\n",
    "    else:\n",
    "        source2age[source_] = [age_]"
   ]
  },
  {
   "cell_type": "code",
   "execution_count": 26,
   "id": "cf393f2f-c3e5-41ac-a784-33a56978f39c",
   "metadata": {},
   "outputs": [
    {
     "name": "stdout",
     "output_type": "stream",
     "text": [
      "cbt distribution of age: [0.71428571 1.         1.125      1.22727273 2.5       ]\n",
      "simplified distribution of age: [0.         0.83333333 1.22222222 1.4        3.        ]\n",
      "bookcorpus distribution of age: [0.         1.         1.11764706 1.23076923 3.5       ]\n",
      "wikipedia distribution of age: [0.         1.         1.28571429 1.5        3.66666667]\n"
     ]
    }
   ],
   "source": [
    "for source in source2age:\n",
    "    dist = np.nanpercentile(source2age[source], [0, 12, 50, 75, 100])\n",
    "    print(f'{source} distribution of age: {dist}')"
   ]
  },
  {
   "cell_type": "code",
   "execution_count": 27,
   "id": "a78b1ec6-a658-49d0-b227-4457c2c2ab4c",
   "metadata": {},
   "outputs": [
    {
     "name": "stdout",
     "output_type": "stream",
     "text": [
      "cbt distribution of oov: [0. 0. 0. 0. 2.]\n",
      "simplified distribution of oov: [  0.   0.   0.   1. 101.]\n",
      "bookcorpus distribution of oov: [ 0.  0.  0.  0. 42.]\n",
      "wikipedia distribution of oov: [  0.   0.   0.   0. 218.]\n"
     ]
    }
   ],
   "source": [
    "for source in source2oov:\n",
    "    dist = np.nanpercentile(source2oov[source], [0, 12, 50, 75, 100])\n",
    "    print(f'{source} distribution of oov: {dist}')"
   ]
  },
  {
   "cell_type": "code",
   "execution_count": 28,
   "id": "993a90a7-65f7-495c-8c41-a6c6e9c5bc68",
   "metadata": {},
   "outputs": [
    {
     "name": "stdout",
     "output_type": "stream",
     "text": [
      "17 distribution of age: [0.         1.05882353 1.17647059 1.29411765 2.29411765]\n",
      "4 distribution of age: [0.         0.5        1.         1.25       3.66666667]\n",
      "8 distribution of age: [0.    1.    1.125 1.25  3.   ]\n",
      "10 distribution of age: [0.  1.  1.1 1.3 3. ]\n",
      "6 distribution of age: [0.         1.         1.16666667 1.33333333 3.5       ]\n",
      "15 distribution of age: [0.         1.         1.13333333 1.26666667 2.53333333]\n",
      "13 distribution of age: [0.         1.         1.15384615 1.30769231 2.53846154]\n",
      "7 distribution of age: [0.         1.         1.14285714 1.28571429 3.42857143]\n",
      "16 distribution of age: [0.     1.     1.1875 1.25   2.5   ]\n",
      "14 distribution of age: [0.         1.         1.14285714 1.28571429 2.5       ]\n",
      "9 distribution of age: [0.         1.         1.11111111 1.22222222 3.        ]\n",
      "12 distribution of age: [0.         1.         1.16666667 1.25       2.58333333]\n",
      "18 distribution of age: [0.         1.05555556 1.16666667 1.27777778 2.27777778]\n",
      "20 distribution of age: [0.         1.04545455 1.16       1.26086957 2.18181818]\n",
      "11 distribution of age: [0.         1.         1.18181818 1.27272727 3.        ]\n",
      "19 distribution of age: [0.         1.05263158 1.15789474 1.26315789 2.21052632]\n",
      "5 distribution of age: [0.  1.  1.  1.2 3.6]\n"
     ]
    }
   ],
   "source": [
    "for len_ in len2age:\n",
    "    dist = np.nanpercentile(len2age[len_], [0, 12, 50, 75, 100])\n",
    "    print(f'{len_} distribution of age: {dist}')"
   ]
  },
  {
   "cell_type": "code",
   "execution_count": 29,
   "id": "bc2174a0-6bc3-4962-880e-f29e6c0d18f2",
   "metadata": {},
   "outputs": [
    {
     "name": "stdout",
     "output_type": "stream",
     "text": [
      "/home/vdeshpande/vocabulary_analysis/data_filtering/based_on_aochild\n"
     ]
    }
   ],
   "source": [
    "!pwd"
   ]
  },
  {
   "cell_type": "code",
   "execution_count": null,
   "id": "60b7d3bd-9bdc-4a2b-8dce-0cbdc613fb59",
   "metadata": {},
   "outputs": [],
   "source": []
  },
  {
   "cell_type": "code",
   "execution_count": null,
   "id": "ef212062-2e8e-460f-8ee1-974cce03637c",
   "metadata": {},
   "outputs": [],
   "source": []
  },
  {
   "cell_type": "code",
   "execution_count": null,
   "id": "18f9e34b-c4c0-4b17-9203-da6cc941954f",
   "metadata": {},
   "outputs": [],
   "source": []
  },
  {
   "cell_type": "code",
   "execution_count": null,
   "id": "163eaa9f-0e51-4e76-9913-f34e9ef9ea1d",
   "metadata": {},
   "outputs": [],
   "source": []
  },
  {
   "cell_type": "code",
   "execution_count": null,
   "id": "4d9094c9-8768-4de4-a01c-b76eb8656fd9",
   "metadata": {},
   "outputs": [],
   "source": []
  },
  {
   "cell_type": "code",
   "execution_count": null,
   "id": "a140b13b-2fa4-418e-a65d-c313a9a4f3b4",
   "metadata": {},
   "outputs": [],
   "source": []
  },
  {
   "cell_type": "code",
   "execution_count": null,
   "id": "4c6c383a-5e85-4b4a-9fb3-98aed151b216",
   "metadata": {},
   "outputs": [],
   "source": []
  },
  {
   "cell_type": "code",
   "execution_count": null,
   "id": "7ffc0344-b8f9-4a7c-a673-27983fa64a1e",
   "metadata": {},
   "outputs": [],
   "source": []
  },
  {
   "cell_type": "code",
   "execution_count": null,
   "id": "eb6840d4-1d98-4ff4-97e4-10bbdb943a29",
   "metadata": {},
   "outputs": [],
   "source": []
  },
  {
   "cell_type": "code",
   "execution_count": null,
   "id": "94a619ff-f03c-4397-ac0a-384037fbda61",
   "metadata": {},
   "outputs": [],
   "source": []
  },
  {
   "cell_type": "code",
   "execution_count": null,
   "id": "529bdabe-6427-4918-9c8c-746f960ea3e3",
   "metadata": {},
   "outputs": [],
   "source": []
  }
 ],
 "metadata": {
  "kernelspec": {
   "display_name": "Python 3 (ipykernel)",
   "language": "python",
   "name": "python3"
  },
  "language_info": {
   "codemirror_mode": {
    "name": "ipython",
    "version": 3
   },
   "file_extension": ".py",
   "mimetype": "text/x-python",
   "name": "python",
   "nbconvert_exporter": "python",
   "pygments_lexer": "ipython3",
   "version": "3.7.15"
  }
 },
 "nbformat": 4,
 "nbformat_minor": 5
}
