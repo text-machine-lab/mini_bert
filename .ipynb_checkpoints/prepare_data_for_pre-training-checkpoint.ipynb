{
 "cells": [
  {
   "cell_type": "code",
   "execution_count": 2,
   "id": "493b039e-a70f-42a9-84a7-1ad0b1c04722",
   "metadata": {},
   "outputs": [
    {
     "name": "stderr",
     "output_type": "stream",
     "text": [
      "/home/vdeshpande/miniconda3/envs/general/lib/python3.7/site-packages/tqdm/auto.py:22: TqdmWarning: IProgress not found. Please update jupyter and ipywidgets. See https://ipywidgets.readthedocs.io/en/stable/user_install.html\n",
      "  from .autonotebook import tqdm as notebook_tqdm\n"
     ]
    }
   ],
   "source": [
    "import datasets\n",
    "import transformers\n",
    "import torch\n",
    "import pandas as pd\n",
    "import numpy as np\n",
    "import json\n",
    "from tqdm import tqdm"
   ]
  },
  {
   "cell_type": "code",
   "execution_count": 2,
   "id": "1f3dbf19-5ecc-44b6-bcbb-a136aa52adac",
   "metadata": {},
   "outputs": [],
   "source": [
    "data_old = datasets.load_from_disk('./formatted_data_new')"
   ]
  },
  {
   "cell_type": "code",
   "execution_count": 3,
   "id": "63e3e365-6bbf-4f31-81f2-6b77179f3a73",
   "metadata": {},
   "outputs": [
    {
     "data": {
      "text/plain": [
       "DatasetDict({\n",
       "    train: Dataset({\n",
       "        features: ['TEXT'],\n",
       "        num_rows: 6124865\n",
       "    })\n",
       "    test: Dataset({\n",
       "        features: ['TEXT'],\n",
       "        num_rows: 127602\n",
       "    })\n",
       "    validation: Dataset({\n",
       "        features: ['TEXT'],\n",
       "        num_rows: 127601\n",
       "    })\n",
       "})"
      ]
     },
     "execution_count": 3,
     "metadata": {},
     "output_type": "execute_result"
    }
   ],
   "source": [
    "data_old"
   ]
  },
  {
   "cell_type": "code",
   "execution_count": 4,
   "id": "e99d8947-2e00-4ac7-8f5d-65139e6e5f71",
   "metadata": {},
   "outputs": [],
   "source": [
    "path_file = \"./../../../from_shala/vocabulary_analysis/data_filtration/Filtration_25Dec2022/ALL_FILTERED_DATA/processed_data.json\"\n",
    "\n",
    "with open(path_file, 'r') as f:\n",
    "    data_new = json.load(f)"
   ]
  },
  {
   "cell_type": "code",
   "execution_count": 5,
   "id": "511b4bb2-9ef5-4534-96f0-e359c34cb642",
   "metadata": {},
   "outputs": [],
   "source": [
    "def group_sentences(\n",
    "    dict_data,\n",
    "    max_len=128,\n",
    "    sentence_split_ratio=1.2,\n",
    "    key='TEXT'\n",
    "):\n",
    "    print('grouping sentences...')\n",
    "    list_out = []\n",
    "    cur_sequence = ''\n",
    "    idx = 0\n",
    "    for k_, v_ in tqdm(dict_data.items()):\n",
    "        idx += 1\n",
    "        new_sequence = cur_sequence + v_[key] + ' '\n",
    "        if (len(new_sequence.split(' ')) * sentence_split_ratio) >= max_len:\n",
    "            list_out.append(cur_sequence)\n",
    "            cur_sequence = v_[key] + ' '\n",
    "        else:\n",
    "            cur_sequence = new_sequence\n",
    "\n",
    "        #\n",
    "        #if idx > 10000:\n",
    "        #    break\n",
    "    print('done')\n",
    "\n",
    "    return list_out"
   ]
  },
  {
   "cell_type": "code",
   "execution_count": 6,
   "id": "7791d12f-dbf8-4c6a-bec9-bfb1cb2787e8",
   "metadata": {},
   "outputs": [
    {
     "name": "stdout",
     "output_type": "stream",
     "text": [
      "./Filtration_0_0\n",
      "{'TEXT': 'important to consider that they cannot really be separated from one another. as each person has different needs at different times, one might be more drawn to one path at a certain time, but essentially they can all be taken together to achieve the goal of yoga.', 'DATA_SOURCE': './Filtration', 'SENTENCE_LENGTH': 37, 'TOTAL_AGE': 222, 'AVG_AGE': 6.0, 'OOV_COUNT': 0, 'OOV_WORDS': []}\n"
     ]
    }
   ],
   "source": [
    "for k_, v_ in data_new.items():\n",
    "    print(k_)\n",
    "    print(v_)\n",
    "    break"
   ]
  },
  {
   "cell_type": "code",
   "execution_count": 7,
   "id": "e23f06f7-e11c-4378-887a-320c5d65e0ce",
   "metadata": {},
   "outputs": [
    {
     "name": "stdout",
     "output_type": "stream",
     "text": [
      "grouping sentences...\n"
     ]
    },
    {
     "name": "stderr",
     "output_type": "stream",
     "text": [
      "100%|█████████████████████████████████████████████████████████████████████████████████████| 3148093/3148093 [00:25<00:00, 121311.98it/s]"
     ]
    },
    {
     "name": "stdout",
     "output_type": "stream",
     "text": [
      "done\n"
     ]
    },
    {
     "name": "stderr",
     "output_type": "stream",
     "text": [
      "\n"
     ]
    }
   ],
   "source": [
    "data_new_list = group_sentences(data_new)\n",
    "flag_new = ['new'] * len(data_new)"
   ]
  },
  {
   "cell_type": "code",
   "execution_count": 8,
   "id": "097aee29-798e-4455-9585-9a90a952c751",
   "metadata": {},
   "outputs": [
    {
     "data": {
      "text/plain": [
       "2901422"
      ]
     },
     "execution_count": 8,
     "metadata": {},
     "output_type": "execute_result"
    }
   ],
   "source": [
    "len(data_new_list)"
   ]
  },
  {
   "cell_type": "code",
   "execution_count": 9,
   "id": "6c5c1da3-8d57-48be-a5b0-930f38fabd0b",
   "metadata": {},
   "outputs": [],
   "source": [
    "data_old_list = list(data_old['train']['TEXT']) + list(data_old['test']['TEXT']) + list(data_old['validation']['TEXT'])\n",
    "flag_old = ['old'] * len(data_old)"
   ]
  },
  {
   "cell_type": "code",
   "execution_count": 10,
   "id": "cdc6f6e0-eb30-4904-aea4-bdb6a24e7c55",
   "metadata": {},
   "outputs": [
    {
     "data": {
      "text/plain": [
       "6380068"
      ]
     },
     "execution_count": 10,
     "metadata": {},
     "output_type": "execute_result"
    }
   ],
   "source": [
    "len(data_old_list)"
   ]
  },
  {
   "cell_type": "code",
   "execution_count": 11,
   "id": "f4bed755-926b-4090-99dd-0f1f358dd377",
   "metadata": {},
   "outputs": [],
   "source": [
    "import random\n",
    "\n",
    "random.shuffle(data_old_list)\n",
    "random.shuffle(data_new_list)"
   ]
  },
  {
   "cell_type": "code",
   "execution_count": 12,
   "id": "6c7eafa9-d2ec-421f-b844-59fc2092311b",
   "metadata": {},
   "outputs": [
    {
     "name": "stdout",
     "output_type": "stream",
     "text": [
      "this is the place to take your child to see a outstanding doctor! the truth about real estate – selling selling real estate is usually not a complicated process if you know what you are doing. please do not call the school regarding position on the wait list. you guys are really awesome and appreciated!!! she has been really good at getting the wins against the players she’s supposed to beat. so, i thought i’d offer a bit of advice for getting (and giving) the most out of your graduate experience. are you mainly a fighter always on the offensive)? \n",
      "====================\n",
      "anyone can step on a mound and within seconds are bitten. there are no natural predators to the fire ant in the united states, or in many other places where this ant can be found, which leaves it to the home owner to learn how to treat and get rid of fire ants that have showed up on their lawn.\n",
      "there are a few ways any home owner can attempt to manage the fire ant issue. the first thing to understand is that to successfully kill off the fire ants and get rid of them from your property you need to kill of the queen fire ant. you can kill hundreds \n"
     ]
    }
   ],
   "source": [
    "print(data_old_list[0])\n",
    "print(\"==\"*10)\n",
    "print(data_new_list[0])"
   ]
  },
  {
   "cell_type": "code",
   "execution_count": 13,
   "id": "ca8964e5-9138-4f64-9589-a36b878db42a",
   "metadata": {},
   "outputs": [],
   "source": [
    "#\n",
    "train = data_old_list[:-150000]\n",
    "validation = data_old_list[-150000:-75000]\n",
    "test = data_old_list[-75000:]\n",
    "\n",
    "#\n",
    "train += data_new_list[:-50000]\n",
    "validation += data_new_list[-50000:-25000]\n",
    "test += data_new_list[-25000:]\n",
    "\n",
    "#\n",
    "random.shuffle(train)\n",
    "random.shuffle(validation)\n",
    "random.shuffle(test)"
   ]
  },
  {
   "cell_type": "code",
   "execution_count": 14,
   "id": "572f5741-0179-422c-8d00-1b986ab70ab9",
   "metadata": {},
   "outputs": [
    {
     "name": "stdout",
     "output_type": "stream",
     "text": [
      "9081490\n",
      "100000\n",
      "100000\n"
     ]
    }
   ],
   "source": [
    "print(len(train))\n",
    "print(len(validation))\n",
    "print(len(test))\n",
    "\n",
    "#print(len(flag_train))\n",
    "#print(len(flag_val))\n",
    "#print(len(flag_test))"
   ]
  },
  {
   "cell_type": "code",
   "execution_count": 15,
   "id": "f6b871a2-412e-4632-9a3d-fd8bad2c1b5d",
   "metadata": {},
   "outputs": [],
   "source": [
    "train_df = pd.DataFrame({\n",
    "    \"TEXT\": train,\n",
    "    #\"FLAG\": flag_train,\n",
    "})\n",
    "\n",
    "val_df = pd.DataFrame({\n",
    "    \"TEXT\": validation,\n",
    "    #\"FLAG\": flag_val,\n",
    "})\n",
    "\n",
    "test_df = pd.DataFrame({\n",
    "    \"TEXT\": test,\n",
    "    #\"FLAG\": flag_test,\n",
    "})"
   ]
  },
  {
   "cell_type": "code",
   "execution_count": 19,
   "id": "7ff29606-8306-4bbf-995e-e8d1c025f7b7",
   "metadata": {},
   "outputs": [],
   "source": [
    "data_hf = datasets.DatasetDict()\n",
    "\n",
    "data_hf['train'] = datasets.Dataset.from_pandas(train_df)\n",
    "data_hf['validation'] = datasets.Dataset.from_pandas(val_df)\n",
    "data_hf['test'] = datasets.Dataset.from_pandas(test_df)"
   ]
  },
  {
   "cell_type": "code",
   "execution_count": 20,
   "id": "468540be-3265-4050-93fd-d1f0966dfd27",
   "metadata": {},
   "outputs": [
    {
     "data": {
      "text/plain": [
       "DatasetDict({\n",
       "    train: Dataset({\n",
       "        features: ['TEXT'],\n",
       "        num_rows: 9081490\n",
       "    })\n",
       "    validation: Dataset({\n",
       "        features: ['TEXT'],\n",
       "        num_rows: 100000\n",
       "    })\n",
       "    test: Dataset({\n",
       "        features: ['TEXT'],\n",
       "        num_rows: 100000\n",
       "    })\n",
       "})"
      ]
     },
     "execution_count": 20,
     "metadata": {},
     "output_type": "execute_result"
    }
   ],
   "source": [
    "data_hf"
   ]
  },
  {
   "cell_type": "code",
   "execution_count": 21,
   "id": "1ccbb561-3f59-4502-9e2b-8a67ee70e35c",
   "metadata": {},
   "outputs": [],
   "source": [
    "data_hf.save_to_disk('./pretraining_data_01Jan2022')"
   ]
  },
  {
   "cell_type": "code",
   "execution_count": 4,
   "id": "abd26e0f-f173-45a7-8aeb-b3e9c2239bef",
   "metadata": {},
   "outputs": [
    {
     "data": {
      "text/plain": [
       "DatasetDict({\n",
       "    train: Dataset({\n",
       "        features: ['TEXT'],\n",
       "        num_rows: 9081490\n",
       "    })\n",
       "    validation: Dataset({\n",
       "        features: ['TEXT'],\n",
       "        num_rows: 100000\n",
       "    })\n",
       "    test: Dataset({\n",
       "        features: ['TEXT'],\n",
       "        num_rows: 100000\n",
       "    })\n",
       "})"
      ]
     },
     "execution_count": 4,
     "metadata": {},
     "output_type": "execute_result"
    }
   ],
   "source": [
    "data_read = datasets.load_from_disk('./pretraining_data_01Jan2022')"
   ]
  },
  {
   "cell_type": "code",
   "execution_count": null,
   "id": "d4e19b50-6689-4f7b-8044-ba6634a15aae",
   "metadata": {},
   "outputs": [],
   "source": []
  }
 ],
 "metadata": {
  "kernelspec": {
   "display_name": "Python 3 (ipykernel)",
   "language": "python",
   "name": "python3"
  },
  "language_info": {
   "codemirror_mode": {
    "name": "ipython",
    "version": 3
   },
   "file_extension": ".py",
   "mimetype": "text/x-python",
   "name": "python",
   "nbconvert_exporter": "python",
   "pygments_lexer": "ipython3",
   "version": "3.7.15"
  }
 },
 "nbformat": 4,
 "nbformat_minor": 5
}
