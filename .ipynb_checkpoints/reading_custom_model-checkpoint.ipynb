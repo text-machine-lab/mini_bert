{
 "cells": [
  {
   "cell_type": "code",
   "execution_count": 1,
   "id": "7c2e1cb9-1289-4dd5-8b15-da8f4d8229a1",
   "metadata": {},
   "outputs": [
    {
     "name": "stderr",
     "output_type": "stream",
     "text": [
      "/home/vdeshpande/miniconda3/envs/general/lib/python3.7/site-packages/tqdm/auto.py:22: TqdmWarning: IProgress not found. Please update jupyter and ipywidgets. See https://ipywidgets.readthedocs.io/en/stable/user_install.html\n",
      "  from .autonotebook import tqdm as notebook_tqdm\n"
     ]
    }
   ],
   "source": [
    "from transformers import (\n",
    "    AutoModel,\n",
    "    AutoModelForSequenceClassification\n",
    ")\n",
    "from LMModel import (\n",
    "    LanModelConfig,\n",
    "    LanModel,\n",
    "    load_model_for_finetuning\n",
    ")\n",
    "import json"
   ]
  },
  {
   "cell_type": "code",
   "execution_count": 2,
   "id": "d6e4a709-700a-468e-9866-93438be340d0",
   "metadata": {},
   "outputs": [],
   "source": [
    "map_ = {\n",
    "    \"twilight-wildflower-11\": {\n",
    "        \"embedding_size\": 32,\n",
    "        \"hidden_size\": 256,\n",
    "        \"intermediate_size\": 1024,\n",
    "        \"num_attention_heads\": 8,\n",
    "        \"num_hidden_layers\": 8,\n",
    "    }\n",
    "}\n",
    "\n",
    "with open('map_.json', 'w') as f:\n",
    "    json.dump(map_, f, indent=4)"
   ]
  },
  {
   "cell_type": "code",
   "execution_count": null,
   "id": "a7d60270-2619-44dd-80a2-673453a0b503",
   "metadata": {},
   "outputs": [],
   "source": [
    "model = load_model_for_finetuning(run_name=\"twilight-wildflower-11\")"
   ]
  },
  {
   "cell_type": "code",
   "execution_count": null,
   "id": "b5b758ea-5a3b-4579-a8e9-821421d12b74",
   "metadata": {},
   "outputs": [],
   "source": [
    "model"
   ]
  },
  {
   "cell_type": "code",
   "execution_count": null,
   "id": "c0a4fac1-d27b-4722-bfeb-117be8467d96",
   "metadata": {},
   "outputs": [],
   "source": []
  }
 ],
 "metadata": {
  "kernelspec": {
   "display_name": "Python 3 (ipykernel)",
   "language": "python",
   "name": "python3"
  },
  "language_info": {
   "codemirror_mode": {
    "name": "ipython",
    "version": 3
   },
   "file_extension": ".py",
   "mimetype": "text/x-python",
   "name": "python",
   "nbconvert_exporter": "python",
   "pygments_lexer": "ipython3",
   "version": "3.7.15"
  }
 },
 "nbformat": 4,
 "nbformat_minor": 5
}
